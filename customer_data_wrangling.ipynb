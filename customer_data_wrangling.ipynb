{
 "cells": [
  {
   "cell_type": "code",
   "execution_count": 1,
   "metadata": {
    "collapsed": false
   },
   "outputs": [],
   "source": [
    "import pandas as pd\n",
    "import matplotlib.pyplot as plt"
   ]
  },
  {
   "cell_type": "code",
   "execution_count": 2,
   "metadata": {
    "collapsed": false,
    "scrolled": true
   },
   "outputs": [],
   "source": [
    "#convert to ascii to get rid of the special characters\n",
    "df = pd.read_excel('data/sample_data.xlsx', encoding=\"ascii\")"
   ]
  },
  {
   "cell_type": "code",
   "execution_count": 3,
   "metadata": {
    "collapsed": false
   },
   "outputs": [
    {
     "data": {
      "text/plain": [
       "Index(['customer_id', 'gender', 'age', 'total_score', 'industry', 'title',\n",
       "       'skills'],\n",
       "      dtype='object')"
      ]
     },
     "execution_count": 3,
     "metadata": {},
     "output_type": "execute_result"
    }
   ],
   "source": [
    "df.columns"
   ]
  },
  {
   "cell_type": "code",
   "execution_count": 4,
   "metadata": {
    "collapsed": false
   },
   "outputs": [
    {
     "data": {
      "text/html": [
       "<div>\n",
       "<table border=\"1\" class=\"dataframe\">\n",
       "  <thead>\n",
       "    <tr style=\"text-align: right;\">\n",
       "      <th></th>\n",
       "      <th>customer_id</th>\n",
       "      <th>gender</th>\n",
       "      <th>age</th>\n",
       "      <th>total_score</th>\n",
       "      <th>industry</th>\n",
       "      <th>title</th>\n",
       "      <th>skills</th>\n",
       "    </tr>\n",
       "  </thead>\n",
       "  <tbody>\n",
       "    <tr>\n",
       "      <th>0</th>\n",
       "      <td>1</td>\n",
       "      <td>NaN</td>\n",
       "      <td>NaN</td>\n",
       "      <td>3.45</td>\n",
       "      <td>Information Technology and Services</td>\n",
       "      <td>NaN</td>\n",
       "      <td>NaN</td>\n",
       "    </tr>\n",
       "    <tr>\n",
       "      <th>1</th>\n",
       "      <td>2</td>\n",
       "      <td>NaN</td>\n",
       "      <td>NaN</td>\n",
       "      <td>3.44</td>\n",
       "      <td>Internet</td>\n",
       "      <td>NaN</td>\n",
       "      <td>NaN</td>\n",
       "    </tr>\n",
       "    <tr>\n",
       "      <th>2</th>\n",
       "      <td>3</td>\n",
       "      <td>NaN</td>\n",
       "      <td>0-0</td>\n",
       "      <td>10.49</td>\n",
       "      <td>NaN</td>\n",
       "      <td>NaN</td>\n",
       "      <td>NaN</td>\n",
       "    </tr>\n",
       "    <tr>\n",
       "      <th>3</th>\n",
       "      <td>4</td>\n",
       "      <td>Male</td>\n",
       "      <td>0-0</td>\n",
       "      <td>3.46</td>\n",
       "      <td>Construction</td>\n",
       "      <td>Functional Architect, Business Technology</td>\n",
       "      <td>SharePoint,Management ,Business Intelligence ,...</td>\n",
       "    </tr>\n",
       "    <tr>\n",
       "      <th>4</th>\n",
       "      <td>5</td>\n",
       "      <td>NaN</td>\n",
       "      <td>NaN</td>\n",
       "      <td>3.45</td>\n",
       "      <td>NaN</td>\n",
       "      <td>NaN</td>\n",
       "      <td>NaN</td>\n",
       "    </tr>\n",
       "  </tbody>\n",
       "</table>\n",
       "</div>"
      ],
      "text/plain": [
       "   customer_id gender  age  total_score                             industry  \\\n",
       "0            1    NaN  NaN         3.45  Information Technology and Services   \n",
       "1            2    NaN  NaN         3.44                             Internet   \n",
       "2            3    NaN  0-0        10.49                                  NaN   \n",
       "3            4   Male  0-0         3.46                         Construction   \n",
       "4            5    NaN  NaN         3.45                                  NaN   \n",
       "\n",
       "                                       title  \\\n",
       "0                                        NaN   \n",
       "1                                        NaN   \n",
       "2                                        NaN   \n",
       "3  Functional Architect, Business Technology   \n",
       "4                                        NaN   \n",
       "\n",
       "                                              skills  \n",
       "0                                                NaN  \n",
       "1                                                NaN  \n",
       "2                                                NaN  \n",
       "3  SharePoint,Management ,Business Intelligence ,...  \n",
       "4                                                NaN  "
      ]
     },
     "execution_count": 4,
     "metadata": {},
     "output_type": "execute_result"
    }
   ],
   "source": [
    "df.head()"
   ]
  },
  {
   "cell_type": "code",
   "execution_count": 5,
   "metadata": {
    "collapsed": false
   },
   "outputs": [
    {
     "data": {
      "text/html": [
       "<div>\n",
       "<table border=\"1\" class=\"dataframe\">\n",
       "  <thead>\n",
       "    <tr style=\"text-align: right;\">\n",
       "      <th></th>\n",
       "      <th>customer_id</th>\n",
       "      <th>total_score</th>\n",
       "    </tr>\n",
       "  </thead>\n",
       "  <tbody>\n",
       "    <tr>\n",
       "      <th>count</th>\n",
       "      <td>5022.000000</td>\n",
       "      <td>5022.000000</td>\n",
       "    </tr>\n",
       "    <tr>\n",
       "      <th>mean</th>\n",
       "      <td>2511.500000</td>\n",
       "      <td>5.853035</td>\n",
       "    </tr>\n",
       "    <tr>\n",
       "      <th>std</th>\n",
       "      <td>1449.870856</td>\n",
       "      <td>3.336261</td>\n",
       "    </tr>\n",
       "    <tr>\n",
       "      <th>min</th>\n",
       "      <td>1.000000</td>\n",
       "      <td>0.450000</td>\n",
       "    </tr>\n",
       "    <tr>\n",
       "      <th>25%</th>\n",
       "      <td>1256.250000</td>\n",
       "      <td>3.430000</td>\n",
       "    </tr>\n",
       "    <tr>\n",
       "      <th>50%</th>\n",
       "      <td>2511.500000</td>\n",
       "      <td>3.470000</td>\n",
       "    </tr>\n",
       "    <tr>\n",
       "      <th>75%</th>\n",
       "      <td>3766.750000</td>\n",
       "      <td>10.460000</td>\n",
       "    </tr>\n",
       "    <tr>\n",
       "      <th>max</th>\n",
       "      <td>5022.000000</td>\n",
       "      <td>10.940000</td>\n",
       "    </tr>\n",
       "  </tbody>\n",
       "</table>\n",
       "</div>"
      ],
      "text/plain": [
       "       customer_id  total_score\n",
       "count  5022.000000  5022.000000\n",
       "mean   2511.500000     5.853035\n",
       "std    1449.870856     3.336261\n",
       "min       1.000000     0.450000\n",
       "25%    1256.250000     3.430000\n",
       "50%    2511.500000     3.470000\n",
       "75%    3766.750000    10.460000\n",
       "max    5022.000000    10.940000"
      ]
     },
     "execution_count": 5,
     "metadata": {},
     "output_type": "execute_result"
    }
   ],
   "source": [
    "df.describe()"
   ]
  },
  {
   "cell_type": "code",
   "execution_count": 6,
   "metadata": {
    "collapsed": false
   },
   "outputs": [
    {
     "name": "stdout",
     "output_type": "stream",
     "text": [
      "<class 'pandas.core.frame.DataFrame'>\n",
      "RangeIndex: 5022 entries, 0 to 5021\n",
      "Data columns (total 7 columns):\n",
      "customer_id    5022 non-null int64\n",
      "gender         757 non-null object\n",
      "age            3009 non-null object\n",
      "total_score    5022 non-null float64\n",
      "industry       4148 non-null object\n",
      "title          2593 non-null object\n",
      "skills         2366 non-null object\n",
      "dtypes: float64(1), int64(1), object(5)\n",
      "memory usage: 274.7+ KB\n"
     ]
    }
   ],
   "source": [
    "df.info()"
   ]
  },
  {
   "cell_type": "code",
   "execution_count": 7,
   "metadata": {
    "collapsed": false
   },
   "outputs": [
    {
     "name": "stdout",
     "output_type": "stream",
     "text": [
      "(5022, 7)\n"
     ]
    }
   ],
   "source": [
    "print(df.shape)"
   ]
  },
  {
   "cell_type": "code",
   "execution_count": 8,
   "metadata": {
    "collapsed": false
   },
   "outputs": [
    {
     "name": "stdout",
     "output_type": "stream",
     "text": [
      "Total NA: 2013\n",
      "NA %: 16.5%\n"
     ]
    }
   ],
   "source": [
    "#check each variable for missing values\n",
    "print(\"Total NA:\", sum(df.age.isnull().values.ravel()))\n",
    "print(\"NA %:\", \"{:.1%}\".format(sum(df.age.isnull().values.ravel())/sum(df.isnull().values.ravel())))"
   ]
  },
  {
   "cell_type": "code",
   "execution_count": 9,
   "metadata": {
    "collapsed": false
   },
   "outputs": [
    {
     "name": "stdout",
     "output_type": "stream",
     "text": [
      "Total NA: 4265\n",
      "NA %: 34.9%\n"
     ]
    }
   ],
   "source": [
    "print(\"Total NA:\", sum(df.gender.isnull().values.ravel()))\n",
    "print(\"NA %:\", \"{:.1%}\".format(sum(df.gender.isnull().values.ravel())/sum(df.isnull().values.ravel())))"
   ]
  },
  {
   "cell_type": "code",
   "execution_count": 10,
   "metadata": {
    "collapsed": false
   },
   "outputs": [
    {
     "name": "stdout",
     "output_type": "stream",
     "text": [
      "Total NA: 874\n",
      "NA %: 7.1%\n"
     ]
    }
   ],
   "source": [
    "print(\"Total NA:\", sum(df.industry.isnull().values))\n",
    "print(\"NA %:\", \"{:.1%}\".format(sum(df.industry.isnull().values.ravel())/sum(df.isnull().values.ravel())))"
   ]
  },
  {
   "cell_type": "code",
   "execution_count": 11,
   "metadata": {
    "collapsed": false
   },
   "outputs": [
    {
     "name": "stdout",
     "output_type": "stream",
     "text": [
      "Total NA: 2429\n",
      "NA %: 19.8%\n"
     ]
    }
   ],
   "source": [
    "print(\"Total NA:\", sum(df.title.isnull().values))\n",
    "print(\"NA %:\", \"{:.1%}\".format(sum(df.title.isnull().values.ravel())/sum(df.isnull().values.ravel())))"
   ]
  },
  {
   "cell_type": "code",
   "execution_count": 12,
   "metadata": {
    "collapsed": false
   },
   "outputs": [
    {
     "name": "stdout",
     "output_type": "stream",
     "text": [
      "Total NA: 2656\n",
      "NA %: 21.7%\n"
     ]
    }
   ],
   "source": [
    "print(\"Total NA:\", sum(df.skills.isnull().values))\n",
    "print(\"NA %:\", \"{:.1%}\".format(sum(df.skills.isnull().values.ravel())/sum(df.isnull().values.ravel())))"
   ]
  },
  {
   "cell_type": "code",
   "execution_count": 13,
   "metadata": {
    "collapsed": true
   },
   "outputs": [],
   "source": [
    "#Cleaning industry"
   ]
  },
  {
   "cell_type": "code",
   "execution_count": 25,
   "metadata": {
    "collapsed": false
   },
   "outputs": [
    {
     "name": "stdout",
     "output_type": "stream",
     "text": [
      "Total rows: (5022,)\n",
      "Total NA: 874\n",
      "NA %: 100.0%\n",
      "Encoding is not a string\n",
      "Encoding is  <class 'pandas.core.series.Series'>\n"
     ]
    }
   ],
   "source": [
    "#slice the industry into a dataframe\n",
    "df_ind = df['industry'] \n",
    "print(\"Total rows:\", df_ind.shape)\n",
    "print(\"Total NA:\", sum(df_ind.isnull().values))\n",
    "print(\"NA %:\", \"{:.1%}\".format(sum(df_ind.isnull().values.ravel())/sum(df_ind.isnull().values.ravel())))\n",
    "if isinstance(df['industry'], str):\n",
    "    print(\"Encoding is ordinary string\")\n",
    "else:\n",
    "    print(\"Encoding is not a string\")\n",
    "    \n",
    "#check the type\n",
    "print(\"Encoding is \", type(df['industry']))\n",
    "df_ind.to_csv('df_ind1.csv', sep = ',')"
   ]
  },
  {
   "cell_type": "code",
   "execution_count": 26,
   "metadata": {
    "collapsed": false
   },
   "outputs": [
    {
     "name": "stdout",
     "output_type": "stream",
     "text": [
      "Total rows: (4148,)\n",
      "Total NA: 0\n",
      "NA %: nan%\n"
     ]
    }
   ],
   "source": [
    "#remove missing values\n",
    "df_ind = df_ind.dropna(how='all')\n",
    "print(\"Total rows:\", df_ind.shape)\n",
    "print(\"Total NA:\", sum(df_ind.isnull().values))\n",
    "print(\"NA %:\", \"{:.1%}\".format(sum(df_ind.isnull().values.ravel())/sum(df_ind.isnull().values.ravel())))"
   ]
  },
  {
   "cell_type": "code",
   "execution_count": 18,
   "metadata": {
    "collapsed": false
   },
   "outputs": [
    {
     "name": "stdout",
     "output_type": "stream",
     "text": [
      "There are 38 x000D\n"
     ]
    }
   ],
   "source": [
    "#DO NOT RUN\n",
    "#remove all '_x000D' and '_x000D_' from the beginning of the values\n",
    "df_ind = df_ind.map(lambda x: x.lstrip('_x000D_').rstrip('_x000D_'))\n",
    "\n",
    "#check if there are any '_x000D' or '_x000D_' \n",
    "#if df_ind.str.contains('_x000D').any():\n",
    "#    print (\"x000D is there\")\n",
    "\n",
    "df_ind_count = df['industry'].str.contains('_x000D_').sum()\n",
    "if df_ind_count>0:\n",
    "    print (\"There are {m} x000D\".format(m=df_ind_count))"
   ]
  },
  {
   "cell_type": "code",
   "execution_count": 20,
   "metadata": {
    "collapsed": false
   },
   "outputs": [
    {
     "ename": "SyntaxError",
     "evalue": "invalid syntax (<ipython-input-20-c35bd3809657>, line 2)",
     "output_type": "error",
     "traceback": [
      "\u001b[0;36m  File \u001b[0;32m\"<ipython-input-20-c35bd3809657>\"\u001b[0;36m, line \u001b[0;32m2\u001b[0m\n\u001b[0;31m    df_ind = df_ind(df_ind.str.contains(\"http\") == False])\u001b[0m\n\u001b[0m                                                        ^\u001b[0m\n\u001b[0;31mSyntaxError\u001b[0m\u001b[0;31m:\u001b[0m invalid syntax\n"
     ]
    }
   ],
   "source": [
    "#DO NOT RUN\n",
    "#remove 'http://' from the beginning of the values\n",
    "df_ind = df_ind(df_ind.str.contains(\"http\") == False])\n",
    "print(\"Total rows:\", df_ind.shape)"
   ]
  },
  {
   "cell_type": "code",
   "execution_count": 27,
   "metadata": {
    "collapsed": false
   },
   "outputs": [
    {
     "name": "stdout",
     "output_type": "stream",
     "text": [
      "There are 715 &s\n"
     ]
    }
   ],
   "source": [
    "#replace '&' with 'AND'\n",
    "df_ind = df_ind.replace(\"&\",\"AND\")\n",
    "df_ind_count2 = df_ind.str.contains('&').sum()\n",
    "if df_ind_count2>0:\n",
    "    print (\"There are {m} &s\".format(m=df_ind_count2))"
   ]
  },
  {
   "cell_type": "code",
   "execution_count": 19,
   "metadata": {
    "collapsed": false
   },
   "outputs": [
    {
     "ename": "AttributeError",
     "evalue": "'Series' object has no attribute 'lower'",
     "output_type": "error",
     "traceback": [
      "\u001b[0;31m---------------------------------------------------------------------------\u001b[0m",
      "\u001b[0;31mAttributeError\u001b[0m                            Traceback (most recent call last)",
      "\u001b[0;32m<ipython-input-19-ac35d5e4c281>\u001b[0m in \u001b[0;36m<module>\u001b[0;34m()\u001b[0m\n\u001b[1;32m      1\u001b[0m \u001b[0;31m#convert all to lowercase\u001b[0m\u001b[0;34m\u001b[0m\u001b[0;34m\u001b[0m\u001b[0m\n\u001b[0;32m----> 2\u001b[0;31m \u001b[0mdf_ind\u001b[0m\u001b[0;34m.\u001b[0m\u001b[0mastype\u001b[0m\u001b[0;34m(\u001b[0m\u001b[0;34m'str'\u001b[0m\u001b[0;34m)\u001b[0m\u001b[0;34m.\u001b[0m\u001b[0mlower\u001b[0m\u001b[0;34m(\u001b[0m\u001b[0;34m)\u001b[0m\u001b[0;34m\u001b[0m\u001b[0m\n\u001b[0m\u001b[1;32m      3\u001b[0m \u001b[0;31m#df_ind.head()\u001b[0m\u001b[0;34m\u001b[0m\u001b[0;34m\u001b[0m\u001b[0m\n",
      "\u001b[0;32m/Users/feyzi/anaconda3/lib/python3.5/site-packages/pandas/core/generic.py\u001b[0m in \u001b[0;36m__getattr__\u001b[0;34m(self, name)\u001b[0m\n\u001b[1;32m   2670\u001b[0m             \u001b[0;32mif\u001b[0m \u001b[0mname\u001b[0m \u001b[0;32min\u001b[0m \u001b[0mself\u001b[0m\u001b[0;34m.\u001b[0m\u001b[0m_info_axis\u001b[0m\u001b[0;34m:\u001b[0m\u001b[0;34m\u001b[0m\u001b[0m\n\u001b[1;32m   2671\u001b[0m                 \u001b[0;32mreturn\u001b[0m \u001b[0mself\u001b[0m\u001b[0;34m[\u001b[0m\u001b[0mname\u001b[0m\u001b[0;34m]\u001b[0m\u001b[0;34m\u001b[0m\u001b[0m\n\u001b[0;32m-> 2672\u001b[0;31m             \u001b[0;32mreturn\u001b[0m \u001b[0mobject\u001b[0m\u001b[0;34m.\u001b[0m\u001b[0m__getattribute__\u001b[0m\u001b[0;34m(\u001b[0m\u001b[0mself\u001b[0m\u001b[0;34m,\u001b[0m \u001b[0mname\u001b[0m\u001b[0;34m)\u001b[0m\u001b[0;34m\u001b[0m\u001b[0m\n\u001b[0m\u001b[1;32m   2673\u001b[0m \u001b[0;34m\u001b[0m\u001b[0m\n\u001b[1;32m   2674\u001b[0m     \u001b[0;32mdef\u001b[0m \u001b[0m__setattr__\u001b[0m\u001b[0;34m(\u001b[0m\u001b[0mself\u001b[0m\u001b[0;34m,\u001b[0m \u001b[0mname\u001b[0m\u001b[0;34m,\u001b[0m \u001b[0mvalue\u001b[0m\u001b[0;34m)\u001b[0m\u001b[0;34m:\u001b[0m\u001b[0;34m\u001b[0m\u001b[0m\n",
      "\u001b[0;31mAttributeError\u001b[0m: 'Series' object has no attribute 'lower'"
     ]
    }
   ],
   "source": [
    "#DO NOT RUN\n",
    "#convert all to lowercase\n",
    "df_ind.astype('str').lower()\n",
    "#df_ind.head()"
   ]
  },
  {
   "cell_type": "code",
   "execution_count": 28,
   "metadata": {
    "collapsed": true
   },
   "outputs": [],
   "source": [
    "#function for breaking up values into columns\n",
    "def get_ind(row):\n",
    "    print(type(row))\n",
    "    industries = row.split(',')\n",
    "    return industries"
   ]
  },
  {
   "cell_type": "code",
   "execution_count": 29,
   "metadata": {
    "collapsed": false
   },
   "outputs": [
    {
     "data": {
      "text/plain": [
       "str"
      ]
     },
     "execution_count": 29,
     "metadata": {},
     "output_type": "execute_result"
    }
   ],
   "source": [
    "#check the types in the variable\n",
    "#df_ind.dtypes\n",
    "type(df_ind[1])"
   ]
  },
  {
   "cell_type": "code",
   "execution_count": 50,
   "metadata": {
    "collapsed": false
   },
   "outputs": [
    {
     "name": "stdout",
     "output_type": "stream",
     "text": [
      "Encoding is ordinary string\n",
      "Encoding is  <class 'str'>\n"
     ]
    }
   ],
   "source": [
    "#DO NOT RUN\n",
    "#convert column type from object to string\n",
    "#convert Series to string\n",
    "#df_ind = pd.Series.to_string(df_ind)\n",
    "\n",
    "if isinstance(df_ind, str):\n",
    "    print(\"Encoding is ordinary string\")\n",
    "else:\n",
    "    print(\"Encoding is not a string\")\n",
    "    \n",
    "#check the type\n",
    "print(\"Encoding is \", type(df_ind))"
   ]
  },
  {
   "cell_type": "code",
   "execution_count": 56,
   "metadata": {
    "collapsed": false
   },
   "outputs": [
    {
     "ename": "AttributeError",
     "evalue": "'str' object has no attribute 'shape'",
     "output_type": "error",
     "traceback": [
      "\u001b[0;31m---------------------------------------------------------------------------\u001b[0m",
      "\u001b[0;31mAttributeError\u001b[0m                            Traceback (most recent call last)",
      "\u001b[0;32m<ipython-input-56-b22d0d446ec3>\u001b[0m in \u001b[0;36m<module>\u001b[0;34m()\u001b[0m\n\u001b[1;32m      8\u001b[0m \u001b[0;34m\u001b[0m\u001b[0m\n\u001b[1;32m      9\u001b[0m \u001b[0;31m#df_ind_dedup = set(def_ind)\u001b[0m\u001b[0;34m\u001b[0m\u001b[0;34m\u001b[0m\u001b[0m\n\u001b[0;32m---> 10\u001b[0;31m \u001b[0mdf_ind\u001b[0m\u001b[0;34m.\u001b[0m\u001b[0mshape\u001b[0m\u001b[0;34m(\u001b[0m\u001b[0;34m)\u001b[0m\u001b[0;34m\u001b[0m\u001b[0m\n\u001b[0m",
      "\u001b[0;31mAttributeError\u001b[0m: 'str' object has no attribute 'shape'"
     ]
    }
   ],
   "source": [
    "#DO NOT RUN\n",
    "#remove all duplicates\n",
    "#example of getting rid of duplicates\n",
    "#a = [2,2,3,4,2,2]\n",
    "\n",
    "#x = set(a)\n",
    "#print(x)\n",
    "#print(type(x))\n",
    "\n",
    "#df_ind_dedup = set(def_ind)\n"
   ]
  },
  {
   "cell_type": "code",
   "execution_count": null,
   "metadata": {
    "collapsed": false
   },
   "outputs": [],
   "source": []
  },
  {
   "cell_type": "code",
   "execution_count": 30,
   "metadata": {
    "collapsed": false
   },
   "outputs": [],
   "source": [
    "#break industry into separate dataset\n",
    "\n",
    "for index_val, series_val in df_ind.iteritems():\n",
    "#    df_ind[index_val].apply(get_ind)    \n",
    "    df_ind[index_val].split(',')\n",
    "    \n",
    "df_ind.to_csv('df_ind2.csv', sep = ',')"
   ]
  },
  {
   "cell_type": "code",
   "execution_count": 27,
   "metadata": {
    "collapsed": false
   },
   "outputs": [
    {
     "data": {
      "text/plain": [
       "0    0       0                     Information Tech...\n",
       "1    0       0                     Information Tech...\n",
       "2    0       0                     Information Tech...\n",
       "3    0       0                     Information Tech...\n",
       "4    0       0                     Information Tech...\n",
       "Name: industry, dtype: object"
      ]
     },
     "execution_count": 27,
     "metadata": {},
     "output_type": "execute_result"
    }
   ],
   "source": [
    "#check columns \n",
    "df_ind.head()\n",
    "#df_ind.columns"
   ]
  },
  {
   "cell_type": "code",
   "execution_count": 28,
   "metadata": {
    "collapsed": false
   },
   "outputs": [
    {
     "data": {
      "text/plain": [
       "count                                                  5022\n",
       "unique                                                    1\n",
       "top       0       0                     Information Tech...\n",
       "freq                                                   5022\n",
       "Name: industry, dtype: object"
      ]
     },
     "execution_count": 28,
     "metadata": {},
     "output_type": "execute_result"
    }
   ],
   "source": [
    "df_ind.describe()"
   ]
  },
  {
   "cell_type": "code",
   "execution_count": null,
   "metadata": {
    "collapsed": true
   },
   "outputs": [],
   "source": []
  },
  {
   "cell_type": "code",
   "execution_count": null,
   "metadata": {
    "collapsed": true
   },
   "outputs": [],
   "source": []
  },
  {
   "cell_type": "code",
   "execution_count": 54,
   "metadata": {
    "collapsed": true
   },
   "outputs": [],
   "source": [
    "#break title into separate dataset\n",
    "df_title = df['title']\n"
   ]
  },
  {
   "cell_type": "code",
   "execution_count": 55,
   "metadata": {
    "collapsed": true
   },
   "outputs": [],
   "source": [
    "#break skills into separate dataset\n",
    "df_skills = df['skills']\n"
   ]
  },
  {
   "cell_type": "code",
   "execution_count": null,
   "metadata": {
    "collapsed": true
   },
   "outputs": [],
   "source": []
  }
 ],
 "metadata": {
  "anaconda-cloud": {},
  "kernelspec": {
   "display_name": "Python [default]",
   "language": "python",
   "name": "python3"
  },
  "language_info": {
   "codemirror_mode": {
    "name": "ipython",
    "version": 3
   },
   "file_extension": ".py",
   "mimetype": "text/x-python",
   "name": "python",
   "nbconvert_exporter": "python",
   "pygments_lexer": "ipython3",
   "version": "3.5.2"
  }
 },
 "nbformat": 4,
 "nbformat_minor": 1
}
