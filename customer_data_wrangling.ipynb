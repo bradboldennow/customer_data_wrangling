{
 "cells": [
  {
   "cell_type": "code",
   "execution_count": 149,
   "metadata": {
    "collapsed": false
   },
   "outputs": [],
   "source": [
    "import pandas as pd\n",
    "import matplotlib.pyplot as plt"
   ]
  },
  {
   "cell_type": "code",
   "execution_count": 150,
   "metadata": {
    "collapsed": false,
    "scrolled": true
   },
   "outputs": [],
   "source": [
    "#convert to ascii to get rid of the special characters\n",
    "df = pd.read_excel('data/sample_data.xlsx', encoding=\"ascii\")"
   ]
  },
  {
   "cell_type": "code",
   "execution_count": 151,
   "metadata": {
    "collapsed": false
   },
   "outputs": [
    {
     "data": {
      "text/plain": [
       "Index(['customer_id', 'gender', 'age', 'total_score', 'industry', 'title',\n",
       "       'skills'],\n",
       "      dtype='object')"
      ]
     },
     "execution_count": 151,
     "metadata": {},
     "output_type": "execute_result"
    }
   ],
   "source": [
    "df.columns"
   ]
  },
  {
   "cell_type": "code",
   "execution_count": 152,
   "metadata": {
    "collapsed": false
   },
   "outputs": [
    {
     "data": {
      "text/html": [
       "<div>\n",
       "<table border=\"1\" class=\"dataframe\">\n",
       "  <thead>\n",
       "    <tr style=\"text-align: right;\">\n",
       "      <th></th>\n",
       "      <th>customer_id</th>\n",
       "      <th>gender</th>\n",
       "      <th>age</th>\n",
       "      <th>total_score</th>\n",
       "      <th>industry</th>\n",
       "      <th>title</th>\n",
       "      <th>skills</th>\n",
       "    </tr>\n",
       "  </thead>\n",
       "  <tbody>\n",
       "    <tr>\n",
       "      <th>0</th>\n",
       "      <td>1</td>\n",
       "      <td>NaN</td>\n",
       "      <td>NaN</td>\n",
       "      <td>3.45</td>\n",
       "      <td>Information Technology and Services</td>\n",
       "      <td>NaN</td>\n",
       "      <td>NaN</td>\n",
       "    </tr>\n",
       "    <tr>\n",
       "      <th>1</th>\n",
       "      <td>2</td>\n",
       "      <td>NaN</td>\n",
       "      <td>NaN</td>\n",
       "      <td>3.44</td>\n",
       "      <td>Internet</td>\n",
       "      <td>NaN</td>\n",
       "      <td>NaN</td>\n",
       "    </tr>\n",
       "    <tr>\n",
       "      <th>2</th>\n",
       "      <td>3</td>\n",
       "      <td>NaN</td>\n",
       "      <td>0-0</td>\n",
       "      <td>10.49</td>\n",
       "      <td>NaN</td>\n",
       "      <td>NaN</td>\n",
       "      <td>NaN</td>\n",
       "    </tr>\n",
       "    <tr>\n",
       "      <th>3</th>\n",
       "      <td>4</td>\n",
       "      <td>Male</td>\n",
       "      <td>0-0</td>\n",
       "      <td>3.46</td>\n",
       "      <td>Construction</td>\n",
       "      <td>Functional Architect, Business Technology</td>\n",
       "      <td>SharePoint,Management ,Business Intelligence ,...</td>\n",
       "    </tr>\n",
       "    <tr>\n",
       "      <th>4</th>\n",
       "      <td>5</td>\n",
       "      <td>NaN</td>\n",
       "      <td>NaN</td>\n",
       "      <td>3.45</td>\n",
       "      <td>NaN</td>\n",
       "      <td>NaN</td>\n",
       "      <td>NaN</td>\n",
       "    </tr>\n",
       "  </tbody>\n",
       "</table>\n",
       "</div>"
      ],
      "text/plain": [
       "   customer_id gender  age  total_score                             industry  \\\n",
       "0            1    NaN  NaN         3.45  Information Technology and Services   \n",
       "1            2    NaN  NaN         3.44                             Internet   \n",
       "2            3    NaN  0-0        10.49                                  NaN   \n",
       "3            4   Male  0-0         3.46                         Construction   \n",
       "4            5    NaN  NaN         3.45                                  NaN   \n",
       "\n",
       "                                       title  \\\n",
       "0                                        NaN   \n",
       "1                                        NaN   \n",
       "2                                        NaN   \n",
       "3  Functional Architect, Business Technology   \n",
       "4                                        NaN   \n",
       "\n",
       "                                              skills  \n",
       "0                                                NaN  \n",
       "1                                                NaN  \n",
       "2                                                NaN  \n",
       "3  SharePoint,Management ,Business Intelligence ,...  \n",
       "4                                                NaN  "
      ]
     },
     "execution_count": 152,
     "metadata": {},
     "output_type": "execute_result"
    }
   ],
   "source": [
    "df.head()"
   ]
  },
  {
   "cell_type": "code",
   "execution_count": 153,
   "metadata": {
    "collapsed": false
   },
   "outputs": [
    {
     "data": {
      "text/html": [
       "<div>\n",
       "<table border=\"1\" class=\"dataframe\">\n",
       "  <thead>\n",
       "    <tr style=\"text-align: right;\">\n",
       "      <th></th>\n",
       "      <th>customer_id</th>\n",
       "      <th>total_score</th>\n",
       "    </tr>\n",
       "  </thead>\n",
       "  <tbody>\n",
       "    <tr>\n",
       "      <th>count</th>\n",
       "      <td>5022.000000</td>\n",
       "      <td>5022.000000</td>\n",
       "    </tr>\n",
       "    <tr>\n",
       "      <th>mean</th>\n",
       "      <td>2511.500000</td>\n",
       "      <td>5.853035</td>\n",
       "    </tr>\n",
       "    <tr>\n",
       "      <th>std</th>\n",
       "      <td>1449.870856</td>\n",
       "      <td>3.336261</td>\n",
       "    </tr>\n",
       "    <tr>\n",
       "      <th>min</th>\n",
       "      <td>1.000000</td>\n",
       "      <td>0.450000</td>\n",
       "    </tr>\n",
       "    <tr>\n",
       "      <th>25%</th>\n",
       "      <td>1256.250000</td>\n",
       "      <td>3.430000</td>\n",
       "    </tr>\n",
       "    <tr>\n",
       "      <th>50%</th>\n",
       "      <td>2511.500000</td>\n",
       "      <td>3.470000</td>\n",
       "    </tr>\n",
       "    <tr>\n",
       "      <th>75%</th>\n",
       "      <td>3766.750000</td>\n",
       "      <td>10.460000</td>\n",
       "    </tr>\n",
       "    <tr>\n",
       "      <th>max</th>\n",
       "      <td>5022.000000</td>\n",
       "      <td>10.940000</td>\n",
       "    </tr>\n",
       "  </tbody>\n",
       "</table>\n",
       "</div>"
      ],
      "text/plain": [
       "       customer_id  total_score\n",
       "count  5022.000000  5022.000000\n",
       "mean   2511.500000     5.853035\n",
       "std    1449.870856     3.336261\n",
       "min       1.000000     0.450000\n",
       "25%    1256.250000     3.430000\n",
       "50%    2511.500000     3.470000\n",
       "75%    3766.750000    10.460000\n",
       "max    5022.000000    10.940000"
      ]
     },
     "execution_count": 153,
     "metadata": {},
     "output_type": "execute_result"
    }
   ],
   "source": [
    "df.describe()"
   ]
  },
  {
   "cell_type": "code",
   "execution_count": 154,
   "metadata": {
    "collapsed": false
   },
   "outputs": [
    {
     "name": "stdout",
     "output_type": "stream",
     "text": [
      "<class 'pandas.core.frame.DataFrame'>\n",
      "RangeIndex: 5022 entries, 0 to 5021\n",
      "Data columns (total 7 columns):\n",
      "customer_id    5022 non-null int64\n",
      "gender         757 non-null object\n",
      "age            3009 non-null object\n",
      "total_score    5022 non-null float64\n",
      "industry       4148 non-null object\n",
      "title          2593 non-null object\n",
      "skills         2366 non-null object\n",
      "dtypes: float64(1), int64(1), object(5)\n",
      "memory usage: 274.7+ KB\n"
     ]
    }
   ],
   "source": [
    "df.info()"
   ]
  },
  {
   "cell_type": "code",
   "execution_count": 155,
   "metadata": {
    "collapsed": false
   },
   "outputs": [
    {
     "name": "stdout",
     "output_type": "stream",
     "text": [
      "(5022, 7)\n"
     ]
    }
   ],
   "source": [
    "print(df.shape)"
   ]
  },
  {
   "cell_type": "code",
   "execution_count": 156,
   "metadata": {
    "collapsed": false
   },
   "outputs": [
    {
     "name": "stdout",
     "output_type": "stream",
     "text": [
      "Total NA: 2013\n",
      "NA %: 16.5%\n"
     ]
    }
   ],
   "source": [
    "#check each variable for missing values\n",
    "print(\"Total NA:\", sum(df.age.isnull().values.ravel()))\n",
    "print(\"NA %:\", \"{:.1%}\".format(sum(df.age.isnull().values.ravel())/sum(df.isnull().values.ravel())))"
   ]
  },
  {
   "cell_type": "code",
   "execution_count": 157,
   "metadata": {
    "collapsed": false
   },
   "outputs": [
    {
     "name": "stdout",
     "output_type": "stream",
     "text": [
      "Total NA: 4265\n",
      "NA %: 34.9%\n"
     ]
    }
   ],
   "source": [
    "print(\"Total NA:\", sum(df.gender.isnull().values.ravel()))\n",
    "print(\"NA %:\", \"{:.1%}\".format(sum(df.gender.isnull().values.ravel())/sum(df.isnull().values.ravel())))"
   ]
  },
  {
   "cell_type": "code",
   "execution_count": 158,
   "metadata": {
    "collapsed": false
   },
   "outputs": [
    {
     "name": "stdout",
     "output_type": "stream",
     "text": [
      "Total NA: 874\n",
      "NA %: 7.1%\n"
     ]
    }
   ],
   "source": [
    "print(\"Total NA:\", sum(df.industry.isnull().values))\n",
    "print(\"NA %:\", \"{:.1%}\".format(sum(df.industry.isnull().values.ravel())/sum(df.isnull().values.ravel())))"
   ]
  },
  {
   "cell_type": "code",
   "execution_count": 159,
   "metadata": {
    "collapsed": false
   },
   "outputs": [
    {
     "name": "stdout",
     "output_type": "stream",
     "text": [
      "Total NA: 2429\n",
      "NA %: 19.8%\n"
     ]
    }
   ],
   "source": [
    "print(\"Total NA:\", sum(df.title.isnull().values))\n",
    "print(\"NA %:\", \"{:.1%}\".format(sum(df.title.isnull().values.ravel())/sum(df.isnull().values.ravel())))"
   ]
  },
  {
   "cell_type": "code",
   "execution_count": 160,
   "metadata": {
    "collapsed": false
   },
   "outputs": [
    {
     "name": "stdout",
     "output_type": "stream",
     "text": [
      "Total NA: 2656\n",
      "NA %: 21.7%\n"
     ]
    }
   ],
   "source": [
    "print(\"Total NA:\", sum(df.skills.isnull().values))\n",
    "print(\"NA %:\", \"{:.1%}\".format(sum(df.skills.isnull().values.ravel())/sum(df.isnull().values.ravel())))"
   ]
  },
  {
   "cell_type": "code",
   "execution_count": 161,
   "metadata": {
    "collapsed": true
   },
   "outputs": [],
   "source": [
    "#Cleaning industry"
   ]
  },
  {
   "cell_type": "code",
   "execution_count": 162,
   "metadata": {
    "collapsed": false
   },
   "outputs": [
    {
     "name": "stdout",
     "output_type": "stream",
     "text": [
      "Total rows: (5022, 2)\n",
      "Total NA: [  0 874]\n",
      "NA %: 100.0%\n",
      "Encoding is not a string\n",
      "Encoding is  <class 'pandas.core.series.Series'>\n"
     ]
    }
   ],
   "source": [
    "#slice the industry into a dataframe\n",
    "df_ind = df[['customer_id','industry']] \n",
    "print(\"Total rows:\", df_ind.shape)\n",
    "print(\"Total NA:\", sum(df_ind.isnull().values))\n",
    "print(\"NA %:\", \"{:.1%}\".format(sum(df_ind.isnull().values.ravel())/sum(df_ind.isnull().values.ravel())))\n",
    "if isinstance(df['industry'], str):\n",
    "    print(\"Encoding is ordinary string\")\n",
    "else:\n",
    "    print(\"Encoding is not a string\")\n",
    "    \n",
    "#check the type\n",
    "print(\"Encoding is \", type(df['industry']))\n",
    "df_ind.to_csv('df_ind_initial.csv', sep = ',')"
   ]
  },
  {
   "cell_type": "code",
   "execution_count": 163,
   "metadata": {
    "collapsed": false
   },
   "outputs": [
    {
     "data": {
      "text/plain": [
       "pandas.core.frame.DataFrame"
      ]
     },
     "execution_count": 163,
     "metadata": {},
     "output_type": "execute_result"
    }
   ],
   "source": [
    "type(df_ind)"
   ]
  },
  {
   "cell_type": "code",
   "execution_count": 164,
   "metadata": {
    "collapsed": false
   },
   "outputs": [
    {
     "name": "stdout",
     "output_type": "stream",
     "text": [
      "Total rows: (4148, 2)\n",
      "Total NA: [0 0]\n",
      "NA %: nan%\n"
     ]
    }
   ],
   "source": [
    "#remove missing values\n",
    "\n",
    "#df_ind1 = [x for x in df_ind if x != []]\n",
    "\n",
    "#df_ind = df_ind[np.isfinite(df_ind['industry'])]\n",
    "df_ind = df_ind[pd.notnull(df_ind['industry'])]\n",
    "\n",
    "#df_ind = df_ind.dropna(how='all')\n",
    "print(\"Total rows:\", df_ind.shape)\n",
    "print(\"Total NA:\", sum(df_ind.isnull().values))\n",
    "print(\"NA %:\", \"{:.1%}\".format(sum(df_ind.isnull().values.ravel())/sum(df_ind.isnull().values.ravel())))\n",
    "df_ind.to_csv('df_ind_no_na.csv', sep = ',')"
   ]
  },
  {
   "cell_type": "code",
   "execution_count": 165,
   "metadata": {
    "collapsed": false
   },
   "outputs": [],
   "source": [
    "#remove all '_x000D' and '_x000D_' from the beginning of the values\n",
    "\n",
    "type(df_ind)\n",
    "\n",
    "df_ind['industry'] = df_ind['industry'].str.replace('_x000D_', '')\n",
    "\n",
    "\n",
    "df_ind.to_csv('df_ind_no_x000D.csv', sep = ',')"
   ]
  },
  {
   "cell_type": "code",
   "execution_count": 166,
   "metadata": {
    "collapsed": false
   },
   "outputs": [],
   "source": [
    "#DO NOT USE\n",
    "#remove 'http://' from the beginning of the values\n",
    "\n",
    "#df_ind['industry'] = df_ind['industry'].str.replace('http', '')\n",
    "#for i, line in enumerate(df_ind['industry']):\n",
    "#    if line.startswith('http'):\n",
    "#        df_ind.drop(line.startswith('http'))\n",
    "        \n",
    "\n",
    "#df_ind['industry'] = df_ind[df_ind['industry'].line.startswith('http')]\n",
    "\n",
    "#print(\"Total rows:\", df_ind.shape)\n",
    "#df_ind.to_csv('df_ind_no_http.csv', sep = ',')"
   ]
  },
  {
   "cell_type": "code",
   "execution_count": 167,
   "metadata": {
    "collapsed": false
   },
   "outputs": [],
   "source": [
    "#replace '&' with 'AND'\n",
    "df_ind['industry'] = df_ind['industry'].str.replace(\"&\",\"AND\")\n",
    "df_ind.to_csv('df_ind_no&.csv', sep = ',')"
   ]
  },
  {
   "cell_type": "code",
   "execution_count": 168,
   "metadata": {
    "collapsed": false
   },
   "outputs": [],
   "source": [
    "#convert all to lowercase\n",
    "df_ind['industry'] = df_ind.industry.str.lower()\n",
    "df_ind.head()\n",
    "df_ind.to_csv('df_ind_lower.csv', sep = ',')"
   ]
  },
  {
   "cell_type": "code",
   "execution_count": 169,
   "metadata": {
    "collapsed": false
   },
   "outputs": [],
   "source": [
    "#split by comma\n",
    "df_ind = pd.concat([pd.Series(row['customer_id'], row['industry'].split(','))\n",
    "           for _, row in df_ind.iterrows()]).reset_index()"
   ]
  },
  {
   "cell_type": "code",
   "execution_count": 170,
   "metadata": {
    "collapsed": true
   },
   "outputs": [],
   "source": [
    "#NEEDS TO BE FIXED\n",
    "#remove whitespace padding from splitted values\n",
    "#df_ind['industry'] = df_ind['industry'].str.lstrip()"
   ]
  },
  {
   "cell_type": "code",
   "execution_count": 171,
   "metadata": {
    "collapsed": false
   },
   "outputs": [],
   "source": [
    "#add column names\n",
    "column_names = [\"industry\",'customer_id']\n",
    "\n",
    "df_ind.columns = column_names\n",
    "\n",
    "#add a new column and populate dummy values\n",
    "\n",
    "df_ind['dummies'] = 1"
   ]
  },
  {
   "cell_type": "code",
   "execution_count": 173,
   "metadata": {
    "collapsed": false
   },
   "outputs": [],
   "source": [
    "#crosstab to set up for PCA\n",
    "\n",
    "df_ind_cross = pd.crosstab(df_ind.customer_id, df_ind.industry)\n",
    "\n",
    "df_ind_cross.to_csv('df_ind_crosstab.csv', sep = ',')"
   ]
  },
  {
   "cell_type": "code",
   "execution_count": 148,
   "metadata": {
    "collapsed": false
   },
   "outputs": [],
   "source": [
    "\n",
    "\n",
    "#df_ind.pivot(index='customer_id', columns='industry', values='dummies')\n",
    "\n"
   ]
  },
  {
   "cell_type": "code",
   "execution_count": 45,
   "metadata": {
    "collapsed": false
   },
   "outputs": [],
   "source": [
    "\n",
    "\n",
    "#with df_ind as f:\n",
    "#    lis = [x.split() for x in f]\n",
    "\n",
    "#for x in zip(*lis):\n",
    "#  for y in x:\n",
    "#    print(y+'\\t', end='')\n",
    "#  print('\\n')"
   ]
  },
  {
   "cell_type": "code",
   "execution_count": 46,
   "metadata": {
    "collapsed": true
   },
   "outputs": [],
   "source": [
    "#function for breaking up values into columns\n",
    "def get_ind(row):\n",
    "    industries[row] = row.split(',')\n",
    "    \n",
    "    return industries"
   ]
  },
  {
   "cell_type": "code",
   "execution_count": 47,
   "metadata": {
    "collapsed": false
   },
   "outputs": [
    {
     "ename": "AttributeError",
     "evalue": "(\"'Series' object has no attribute 'split'\", 'occurred at index industry')",
     "output_type": "error",
     "traceback": [
      "\u001b[0;31m---------------------------------------------------------------------------\u001b[0m",
      "\u001b[0;31mAttributeError\u001b[0m                            Traceback (most recent call last)",
      "\u001b[0;32m<ipython-input-47-579b09877752>\u001b[0m in \u001b[0;36m<module>\u001b[0;34m()\u001b[0m\n\u001b[0;32m----> 1\u001b[0;31m \u001b[0mind_list\u001b[0m \u001b[0;34m=\u001b[0m \u001b[0mdf_ind\u001b[0m\u001b[0;34m.\u001b[0m\u001b[0mapply\u001b[0m\u001b[0;34m(\u001b[0m\u001b[0mget_ind\u001b[0m\u001b[0;34m)\u001b[0m\u001b[0;34m\u001b[0m\u001b[0m\n\u001b[0m",
      "\u001b[0;32m/Users/feyzi/anaconda3/lib/python3.5/site-packages/pandas/core/frame.py\u001b[0m in \u001b[0;36mapply\u001b[0;34m(self, func, axis, broadcast, raw, reduce, args, **kwds)\u001b[0m\n\u001b[1;32m   4059\u001b[0m                     \u001b[0;32mif\u001b[0m \u001b[0mreduce\u001b[0m \u001b[0;32mis\u001b[0m \u001b[0;32mNone\u001b[0m\u001b[0;34m:\u001b[0m\u001b[0;34m\u001b[0m\u001b[0m\n\u001b[1;32m   4060\u001b[0m                         \u001b[0mreduce\u001b[0m \u001b[0;34m=\u001b[0m \u001b[0;32mTrue\u001b[0m\u001b[0;34m\u001b[0m\u001b[0m\n\u001b[0;32m-> 4061\u001b[0;31m                     \u001b[0;32mreturn\u001b[0m \u001b[0mself\u001b[0m\u001b[0;34m.\u001b[0m\u001b[0m_apply_standard\u001b[0m\u001b[0;34m(\u001b[0m\u001b[0mf\u001b[0m\u001b[0;34m,\u001b[0m \u001b[0maxis\u001b[0m\u001b[0;34m,\u001b[0m \u001b[0mreduce\u001b[0m\u001b[0;34m=\u001b[0m\u001b[0mreduce\u001b[0m\u001b[0;34m)\u001b[0m\u001b[0;34m\u001b[0m\u001b[0m\n\u001b[0m\u001b[1;32m   4062\u001b[0m             \u001b[0;32melse\u001b[0m\u001b[0;34m:\u001b[0m\u001b[0;34m\u001b[0m\u001b[0m\n\u001b[1;32m   4063\u001b[0m                 \u001b[0;32mreturn\u001b[0m \u001b[0mself\u001b[0m\u001b[0;34m.\u001b[0m\u001b[0m_apply_broadcast\u001b[0m\u001b[0;34m(\u001b[0m\u001b[0mf\u001b[0m\u001b[0;34m,\u001b[0m \u001b[0maxis\u001b[0m\u001b[0;34m)\u001b[0m\u001b[0;34m\u001b[0m\u001b[0m\n",
      "\u001b[0;32m/Users/feyzi/anaconda3/lib/python3.5/site-packages/pandas/core/frame.py\u001b[0m in \u001b[0;36m_apply_standard\u001b[0;34m(self, func, axis, ignore_failures, reduce)\u001b[0m\n\u001b[1;32m   4155\u001b[0m             \u001b[0;32mtry\u001b[0m\u001b[0;34m:\u001b[0m\u001b[0;34m\u001b[0m\u001b[0m\n\u001b[1;32m   4156\u001b[0m                 \u001b[0;32mfor\u001b[0m \u001b[0mi\u001b[0m\u001b[0;34m,\u001b[0m \u001b[0mv\u001b[0m \u001b[0;32min\u001b[0m \u001b[0menumerate\u001b[0m\u001b[0;34m(\u001b[0m\u001b[0mseries_gen\u001b[0m\u001b[0;34m)\u001b[0m\u001b[0;34m:\u001b[0m\u001b[0;34m\u001b[0m\u001b[0m\n\u001b[0;32m-> 4157\u001b[0;31m                     \u001b[0mresults\u001b[0m\u001b[0;34m[\u001b[0m\u001b[0mi\u001b[0m\u001b[0;34m]\u001b[0m \u001b[0;34m=\u001b[0m \u001b[0mfunc\u001b[0m\u001b[0;34m(\u001b[0m\u001b[0mv\u001b[0m\u001b[0;34m)\u001b[0m\u001b[0;34m\u001b[0m\u001b[0m\n\u001b[0m\u001b[1;32m   4158\u001b[0m                     \u001b[0mkeys\u001b[0m\u001b[0;34m.\u001b[0m\u001b[0mappend\u001b[0m\u001b[0;34m(\u001b[0m\u001b[0mv\u001b[0m\u001b[0;34m.\u001b[0m\u001b[0mname\u001b[0m\u001b[0;34m)\u001b[0m\u001b[0;34m\u001b[0m\u001b[0m\n\u001b[1;32m   4159\u001b[0m             \u001b[0;32mexcept\u001b[0m \u001b[0mException\u001b[0m \u001b[0;32mas\u001b[0m \u001b[0me\u001b[0m\u001b[0;34m:\u001b[0m\u001b[0;34m\u001b[0m\u001b[0m\n",
      "\u001b[0;32m<ipython-input-46-7b74e3e8adde>\u001b[0m in \u001b[0;36mget_ind\u001b[0;34m(row)\u001b[0m\n\u001b[1;32m      1\u001b[0m \u001b[0;31m#function for breaking up values into columns\u001b[0m\u001b[0;34m\u001b[0m\u001b[0;34m\u001b[0m\u001b[0m\n\u001b[1;32m      2\u001b[0m \u001b[0;32mdef\u001b[0m \u001b[0mget_ind\u001b[0m\u001b[0;34m(\u001b[0m\u001b[0mrow\u001b[0m\u001b[0;34m)\u001b[0m\u001b[0;34m:\u001b[0m\u001b[0;34m\u001b[0m\u001b[0m\n\u001b[0;32m----> 3\u001b[0;31m     \u001b[0mindustries\u001b[0m\u001b[0;34m[\u001b[0m\u001b[0mrow\u001b[0m\u001b[0;34m]\u001b[0m \u001b[0;34m=\u001b[0m \u001b[0mrow\u001b[0m\u001b[0;34m.\u001b[0m\u001b[0msplit\u001b[0m\u001b[0;34m(\u001b[0m\u001b[0;34m','\u001b[0m\u001b[0;34m)\u001b[0m\u001b[0;34m\u001b[0m\u001b[0m\n\u001b[0m\u001b[1;32m      4\u001b[0m \u001b[0;34m\u001b[0m\u001b[0m\n\u001b[1;32m      5\u001b[0m     \u001b[0;32mreturn\u001b[0m \u001b[0mindustries\u001b[0m\u001b[0;34m\u001b[0m\u001b[0m\n",
      "\u001b[0;32m/Users/feyzi/anaconda3/lib/python3.5/site-packages/pandas/core/generic.py\u001b[0m in \u001b[0;36m__getattr__\u001b[0;34m(self, name)\u001b[0m\n\u001b[1;32m   2670\u001b[0m             \u001b[0;32mif\u001b[0m \u001b[0mname\u001b[0m \u001b[0;32min\u001b[0m \u001b[0mself\u001b[0m\u001b[0;34m.\u001b[0m\u001b[0m_info_axis\u001b[0m\u001b[0;34m:\u001b[0m\u001b[0;34m\u001b[0m\u001b[0m\n\u001b[1;32m   2671\u001b[0m                 \u001b[0;32mreturn\u001b[0m \u001b[0mself\u001b[0m\u001b[0;34m[\u001b[0m\u001b[0mname\u001b[0m\u001b[0;34m]\u001b[0m\u001b[0;34m\u001b[0m\u001b[0m\n\u001b[0;32m-> 2672\u001b[0;31m             \u001b[0;32mreturn\u001b[0m \u001b[0mobject\u001b[0m\u001b[0;34m.\u001b[0m\u001b[0m__getattribute__\u001b[0m\u001b[0;34m(\u001b[0m\u001b[0mself\u001b[0m\u001b[0;34m,\u001b[0m \u001b[0mname\u001b[0m\u001b[0;34m)\u001b[0m\u001b[0;34m\u001b[0m\u001b[0m\n\u001b[0m\u001b[1;32m   2673\u001b[0m \u001b[0;34m\u001b[0m\u001b[0m\n\u001b[1;32m   2674\u001b[0m     \u001b[0;32mdef\u001b[0m \u001b[0m__setattr__\u001b[0m\u001b[0;34m(\u001b[0m\u001b[0mself\u001b[0m\u001b[0;34m,\u001b[0m \u001b[0mname\u001b[0m\u001b[0;34m,\u001b[0m \u001b[0mvalue\u001b[0m\u001b[0;34m)\u001b[0m\u001b[0;34m:\u001b[0m\u001b[0;34m\u001b[0m\u001b[0m\n",
      "\u001b[0;31mAttributeError\u001b[0m: (\"'Series' object has no attribute 'split'\", 'occurred at index industry')"
     ]
    }
   ],
   "source": [
    "ind_list = df_ind.apply(get_ind)"
   ]
  },
  {
   "cell_type": "code",
   "execution_count": 48,
   "metadata": {
    "collapsed": false
   },
   "outputs": [
    {
     "ename": "NameError",
     "evalue": "name 'ind_list' is not defined",
     "output_type": "error",
     "traceback": [
      "\u001b[0;31m---------------------------------------------------------------------------\u001b[0m",
      "\u001b[0;31mNameError\u001b[0m                                 Traceback (most recent call last)",
      "\u001b[0;32m<ipython-input-48-48b392fdf961>\u001b[0m in \u001b[0;36m<module>\u001b[0;34m()\u001b[0m\n\u001b[0;32m----> 1\u001b[0;31m \u001b[0mlist\u001b[0m\u001b[0;34m(\u001b[0m\u001b[0mind_list\u001b[0m\u001b[0;34m)\u001b[0m\u001b[0;34m\u001b[0m\u001b[0m\n\u001b[0m",
      "\u001b[0;31mNameError\u001b[0m: name 'ind_list' is not defined"
     ]
    }
   ],
   "source": [
    "list(ind_list)"
   ]
  },
  {
   "cell_type": "code",
   "execution_count": 63,
   "metadata": {
    "collapsed": false
   },
   "outputs": [],
   "source": [
    "ind_flat = lambda l: [item for sublist in l for item in sublist]"
   ]
  },
  {
   "cell_type": "code",
   "execution_count": null,
   "metadata": {
    "collapsed": true
   },
   "outputs": [],
   "source": []
  },
  {
   "cell_type": "code",
   "execution_count": null,
   "metadata": {
    "collapsed": true
   },
   "outputs": [],
   "source": []
  },
  {
   "cell_type": "code",
   "execution_count": null,
   "metadata": {
    "collapsed": true
   },
   "outputs": [],
   "source": []
  },
  {
   "cell_type": "code",
   "execution_count": 64,
   "metadata": {
    "collapsed": false
   },
   "outputs": [],
   "source": [
    "#flatten the list and remove duplicates\n",
    "\n",
    "ind_flat_ls = list(set(ind_flat(ind_list))) \n",
    "\n",
    "#remove whitespaces _x000D, special characters, convert to the same case"
   ]
  },
  {
   "cell_type": "code",
   "execution_count": 98,
   "metadata": {
    "collapsed": false
   },
   "outputs": [
    {
     "data": {
      "text/html": [
       "<div>\n",
       "<table border=\"1\" class=\"dataframe\">\n",
       "  <thead>\n",
       "    <tr style=\"text-align: right;\">\n",
       "      <th></th>\n",
       "      <th></th>\n",
       "      <th>Health &amp; Nutrition Products</th>\n",
       "      <th>Newspapers</th>\n",
       "      <th>Application Software</th>\n",
       "      <th>Aviation &amp; Aerospace</th>\n",
       "      <th>Computer Software</th>\n",
       "      <th>Sporting Goods</th>\n",
       "      <th>Internet Software</th>\n",
       "      <th>Insurance_x000D_</th>\n",
       "      <th>Retail</th>\n",
       "      <th>...</th>\n",
       "      <th>Government Relations</th>\n",
       "      <th>Civic &amp; Social Organization</th>\n",
       "      <th>Wholesale</th>\n",
       "      <th>Mining</th>\n",
       "      <th>Freight &amp; Logistics Services</th>\n",
       "      <th>Internet_x000D_</th>\n",
       "      <th>Organizations</th>\n",
       "      <th>Security software</th>\n",
       "      <th>Biotechnology</th>\n",
       "      <th>Outsourcing/Offshoring</th>\n",
       "    </tr>\n",
       "  </thead>\n",
       "  <tbody>\n",
       "  </tbody>\n",
       "</table>\n",
       "<p>0 rows × 474 columns</p>\n",
       "</div>"
      ],
      "text/plain": [
       "Empty DataFrame\n",
       "Columns: [, Health & Nutrition Products, Newspapers, Application Software , Aviation & Aerospace, Computer Software, Sporting Goods, Internet Software, Insurance_x000D_\n",
       ", Retail, Home Furnishing Retail, Health, Computer Networking, Human Resources\n",
       ",  Data Visualization, Finance App you can carry in your pocket, Education Management\n",
       ", Grocery, Defense & Space, studioD, Acounting, Movies & Entertainment, Translation and Localization, Graphic Design,  Oil & Gas, marketing and advertising, Colleges, Telecommunication, Jewelry & Watches, civil engineering, staffing and recruiting, Restaurants, Human recources, Construction, Medical Practice, Market Research_x000D_\n",
       ", Online Media\n",
       ", Broadcast Media, Finance, Cable & Satellite, Program Development, Industrial Automation, Compter Software, music, Food,  Advertising, Food & Beverages\n",
       ", food and beverage, Accounting & Accounting Services, Primary/Secondary Education, Water & Water Treatment, Public Relations and Communications, Capital Markets,  Bus & Taxi, Media company, Mobile Applications, Radio Stations, Market Research,  Website Hosting & Internet-related Services, Boats & Submarines,  Legal & HR Software, Information Services, Civic & Social Organization, Social network, computet software, design, Oil & Energy, Online media,  Travel & Tourism, Furniture, Newspapers & News Services, Medical Practice\n",
       ", Engineering Software, Music & Music Related Services, Providence,  Energy, Bachelor of Business Administration (B.B.A.),  Convenience & Liquor Stores, Architecture,  Natural Gas,  Recruiti,  Engineering & Design, Plastics, Mechanical or Industrial Engineering, E-Learning_x000D_\n",
       ", Sports Teams & Leagues, Facilities Management & Commercial Cleaning,  Rhode Island Area, Civic & Social Organization_x000D_\n",
       ", Entertainment_x000D_\n",
       ", ITS, Computer Equipment & Peripherals,  Inc, Government Administration_x000D_\n",
       ", Lifestyle, International Affairs, information Technology and Services, Universities, Staffing and Recruiting, Business Services, ...]\n",
       "Index: []\n",
       "\n",
       "[0 rows x 474 columns]"
      ]
     },
     "execution_count": 98,
     "metadata": {},
     "output_type": "execute_result"
    }
   ],
   "source": [
    "#apply the industry column names\n",
    "df1 = pd.DataFrame(columns = ind_flat_ls) \n",
    "df1.head()"
   ]
  },
  {
   "cell_type": "code",
   "execution_count": 99,
   "metadata": {
    "collapsed": false
   },
   "outputs": [],
   "source": [
    "old_cols = df.columns\n"
   ]
  },
  {
   "cell_type": "code",
   "execution_count": 100,
   "metadata": {
    "collapsed": false
   },
   "outputs": [],
   "source": [
    "required_cols = ['customer_id','total_score']\n",
    "ind_flat_ls.extend(required_cols)\n",
    "df_ind_added = pd.DataFrame(columns=ind_flat_ls)"
   ]
  },
  {
   "cell_type": "code",
   "execution_count": 101,
   "metadata": {
    "collapsed": false
   },
   "outputs": [
    {
     "data": {
      "text/html": [
       "<div>\n",
       "<table border=\"1\" class=\"dataframe\">\n",
       "  <thead>\n",
       "    <tr style=\"text-align: right;\">\n",
       "      <th></th>\n",
       "      <th></th>\n",
       "      <th>Health &amp; Nutrition Products</th>\n",
       "      <th>Newspapers</th>\n",
       "      <th>Application Software</th>\n",
       "      <th>Aviation &amp; Aerospace</th>\n",
       "      <th>Computer Software</th>\n",
       "      <th>Sporting Goods</th>\n",
       "      <th>Internet Software</th>\n",
       "      <th>Insurance_x000D_</th>\n",
       "      <th>Retail</th>\n",
       "      <th>...</th>\n",
       "      <th>Wholesale</th>\n",
       "      <th>Mining</th>\n",
       "      <th>Freight &amp; Logistics Services</th>\n",
       "      <th>Internet_x000D_</th>\n",
       "      <th>Organizations</th>\n",
       "      <th>Security software</th>\n",
       "      <th>Biotechnology</th>\n",
       "      <th>Outsourcing/Offshoring</th>\n",
       "      <th>customer_id</th>\n",
       "      <th>total_score</th>\n",
       "    </tr>\n",
       "  </thead>\n",
       "  <tbody>\n",
       "  </tbody>\n",
       "</table>\n",
       "<p>0 rows × 476 columns</p>\n",
       "</div>"
      ],
      "text/plain": [
       "Empty DataFrame\n",
       "Columns: [, Health & Nutrition Products, Newspapers, Application Software , Aviation & Aerospace, Computer Software, Sporting Goods, Internet Software, Insurance_x000D_\n",
       ", Retail, Home Furnishing Retail, Health, Computer Networking, Human Resources\n",
       ",  Data Visualization, Finance App you can carry in your pocket, Education Management\n",
       ", Grocery, Defense & Space, studioD, Acounting, Movies & Entertainment, Translation and Localization, Graphic Design,  Oil & Gas, marketing and advertising, Colleges, Telecommunication, Jewelry & Watches, civil engineering, staffing and recruiting, Restaurants, Human recources, Construction, Medical Practice, Market Research_x000D_\n",
       ", Online Media\n",
       ", Broadcast Media, Finance, Cable & Satellite, Program Development, Industrial Automation, Compter Software, music, Food,  Advertising, Food & Beverages\n",
       ", food and beverage, Accounting & Accounting Services, Primary/Secondary Education, Water & Water Treatment, Public Relations and Communications, Capital Markets,  Bus & Taxi, Media company, Mobile Applications, Radio Stations, Market Research,  Website Hosting & Internet-related Services, Boats & Submarines,  Legal & HR Software, Information Services, Civic & Social Organization, Social network, computet software, design, Oil & Energy, Online media,  Travel & Tourism, Furniture, Newspapers & News Services, Medical Practice\n",
       ", Engineering Software, Music & Music Related Services, Providence,  Energy, Bachelor of Business Administration (B.B.A.),  Convenience & Liquor Stores, Architecture,  Natural Gas,  Recruiti,  Engineering & Design, Plastics, Mechanical or Industrial Engineering, E-Learning_x000D_\n",
       ", Sports Teams & Leagues, Facilities Management & Commercial Cleaning,  Rhode Island Area, Civic & Social Organization_x000D_\n",
       ", Entertainment_x000D_\n",
       ", ITS, Computer Equipment & Peripherals,  Inc, Government Administration_x000D_\n",
       ", Lifestyle, International Affairs, information Technology and Services, Universities, Staffing and Recruiting, Business Services, ...]\n",
       "Index: []\n",
       "\n",
       "[0 rows x 476 columns]"
      ]
     },
     "execution_count": 101,
     "metadata": {},
     "output_type": "execute_result"
    }
   ],
   "source": [
    "df_ind_added.head()"
   ]
  },
  {
   "cell_type": "code",
   "execution_count": 27,
   "metadata": {
    "collapsed": false,
    "scrolled": true
   },
   "outputs": [
    {
     "data": {
      "text/plain": [
       "0    0       0                     Information Tech...\n",
       "1    0       0                     Information Tech...\n",
       "2    0       0                     Information Tech...\n",
       "3    0       0                     Information Tech...\n",
       "4    0       0                     Information Tech...\n",
       "Name: industry, dtype: object"
      ]
     },
     "execution_count": 27,
     "metadata": {},
     "output_type": "execute_result"
    }
   ],
   "source": [
    "#check columns \n",
    "df_ind.head()\n",
    "#df_ind.columns"
   ]
  },
  {
   "cell_type": "code",
   "execution_count": null,
   "metadata": {
    "collapsed": true
   },
   "outputs": [],
   "source": []
  },
  {
   "cell_type": "code",
   "execution_count": null,
   "metadata": {
    "collapsed": true
   },
   "outputs": [],
   "source": []
  },
  {
   "cell_type": "code",
   "execution_count": null,
   "metadata": {
    "collapsed": true
   },
   "outputs": [],
   "source": []
  }
 ],
 "metadata": {
  "anaconda-cloud": {},
  "kernelspec": {
   "display_name": "Python [default]",
   "language": "python",
   "name": "python3"
  },
  "language_info": {
   "codemirror_mode": {
    "name": "ipython",
    "version": 3
   },
   "file_extension": ".py",
   "mimetype": "text/x-python",
   "name": "python",
   "nbconvert_exporter": "python",
   "pygments_lexer": "ipython3",
   "version": "3.5.2"
  }
 },
 "nbformat": 4,
 "nbformat_minor": 1
}
